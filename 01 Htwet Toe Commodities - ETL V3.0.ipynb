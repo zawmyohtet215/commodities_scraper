{
 "cells": [
  {
   "cell_type": "code",
   "execution_count": 1,
   "id": "de4ffa4f",
   "metadata": {},
   "outputs": [],
   "source": [
    "from datetime import datetime, timedelta\n",
    "import requests\n",
    "from bs4 import BeautifulSoup\n",
    "import pandas as pd\n",
    "from tqdm import tqdm\n",
    "import time\n",
    "import psycopg2\n",
    "import warnings\n",
    "import calendar"
   ]
  },
  {
   "cell_type": "code",
   "execution_count": 2,
   "id": "80be0dc5",
   "metadata": {},
   "outputs": [],
   "source": [
    "# Suppress all warnings globally\n",
    "warnings.simplefilter(action='ignore', category=UserWarning)"
   ]
  },
  {
   "cell_type": "code",
   "execution_count": 3,
   "id": "37aef738",
   "metadata": {},
   "outputs": [],
   "source": [
    "def connect_to_pgsql():\n",
    "    \"\"\"Used to connect to PostgreSQL database\"\"\"\n",
    "    \n",
    "    # Read PostgreSQL connection parameters from text\n",
    "    with open(\"pgsql_credentials.txt\", \"r\") as file:\n",
    "        lines_pgsql = [line.strip() for line in file.readlines()]\n",
    "\n",
    "    host, port, username, password = lines_pgsql[0], lines_pgsql[1], lines_pgsql[2], lines_pgsql[3]\n",
    "\n",
    "    # Establish PostgreSQL connection\n",
    "    try:\n",
    "        connection = psycopg2.connect(database=\"mm_commodity\",\n",
    "                                     host=host,\n",
    "                                     port=port,\n",
    "                                     user=username,\n",
    "                                     password=password)\n",
    "        print(\"PostgreSQL Connection successful!\")\n",
    "    except psycopg2.Error as e:\n",
    "        print(\"PostgreSQL Connection failed!\", e)\n",
    "\n",
    "    return connection"
   ]
  },
  {
   "cell_type": "markdown",
   "id": "2a8e17e8",
   "metadata": {},
   "source": [
    "# Extract Data"
   ]
  },
  {
   "cell_type": "code",
   "execution_count": 4,
   "id": "dea33c92",
   "metadata": {},
   "outputs": [],
   "source": [
    "def connect_to_website(url):\n",
    "    # Send a GET request to the URL\n",
    "    try:\n",
    "        response = requests.get(url)\n",
    "        # Check if the request was successful\n",
    "        if response.status_code == 200:\n",
    "            # Parse the HTML content using BeautifulSoup\n",
    "            bsObj = BeautifulSoup(response.text, 'html.parser')\n",
    "            return bsObj\n",
    "        else:\n",
    "            print(f\"Failed to retrieve webpage. Status code: {response.status_code}\")\n",
    "            return None\n",
    "    except Exception as e:\n",
    "        print(f\"Failed to retrieve webpage. Error: {e}\")\n",
    "        return None"
   ]
  },
  {
   "cell_type": "code",
   "execution_count": 5,
   "id": "bb27e849",
   "metadata": {},
   "outputs": [],
   "source": [
    "def extract_data(bsObj, current_date):\n",
    "    \"\"\"Find commodity data by market tags\"\"\"\n",
    "    \n",
    "    try:\n",
    "\n",
    "        # Find main data tag\n",
    "        main_data_tag = bsObj.find('div', class_='css-1972jml')\n",
    "\n",
    "        out_df = pd.DataFrame()\n",
    "        for dummy_tag in main_data_tag:\n",
    "\n",
    "            try:\n",
    "                #extract market name\n",
    "                price_data_tag_list = dummy_tag.find_all('div', class_='css-0')\n",
    "                market_name = price_data_tag_list[0].text.strip()\n",
    "            except IndexError:\n",
    "                continue\n",
    "            #extract commodity and unit of measure\n",
    "            crops_tag_list = dummy_tag.find_all('p')\n",
    "\n",
    "            crop_name_list = []\n",
    "            unit_list = []\n",
    "\n",
    "            crop_count = 1\n",
    "            unit_count = 1\n",
    "            for crop in range(int(len(crops_tag_list)/2)):\n",
    "                crop_name = crops_tag_list[crop_count-1].text.strip()\n",
    "                unit = crops_tag_list[unit_count].text.strip()\n",
    "\n",
    "                crop_name_list.append(crop_name)\n",
    "                unit_list.append(unit)\n",
    "\n",
    "                #print(crop_name)\n",
    "                #print(unit)\n",
    "\n",
    "                crop_count += 2\n",
    "                unit_count += 2\n",
    "\n",
    "            #extract price\n",
    "            price_tag_list = dummy_tag.find_all('h5')\n",
    "\n",
    "            price_list = []\n",
    "            for i in range(len(price_tag_list)):\n",
    "                price = price_tag_list[i].text.strip()\n",
    "\n",
    "                price_list.append(price)\n",
    "\n",
    "\n",
    "            base_df = pd.DataFrame({\"Commodity Name\":crop_name_list, \"Unit of Measure\":unit_list, \"Price\":price_list})\n",
    "            base_df[\"Market Name\"] = market_name\n",
    "            base_df[\"Date\"] = current_date\n",
    "            base_df = base_df[['Date','Market Name','Commodity Name','Unit of Measure','Price']]\n",
    "\n",
    "            # split price column for max price and min price\n",
    "            base_df[['Max Price', 'Min Price']] = base_df['Price'].str.split('-', expand=True)\n",
    "\n",
    "            # replace , & ကျပ်\n",
    "            base_df['Max Price'] = base_df['Max Price'].str.replace(',', '')\n",
    "            base_df['Min Price'] = base_df['Min Price'].replace({',':'',\n",
    "                                                                 ' ကျပ်':''}, regex=True)\n",
    "\n",
    "            # Remove all Unicode characters from object columns\n",
    "            # Remove non-printable characters from the 'Market' and 'Crop Name' columns while keeping readable text\n",
    "            base_df['Market Name'] = base_df['Market Name'].str.replace(r'[\\x00-\\x1F\\x7F\\u200c\\u200d\\u200b]', '', regex=True)\n",
    "            base_df['Commodity Name'] = base_df['Commodity Name'].str.replace(r'[\\x00-\\x1F\\x7F\\u200c\\u200d\\u200b]', '', regex=True)\n",
    "            base_df['Unit of Measure'] = base_df['Unit of Measure'].str.replace(r'[\\x00-\\x1F\\x7F\\u200c\\u200d\\u200b]', '', regex=True)\n",
    "\n",
    "            out_df = pd.concat([out_df, base_df])\n",
    "        return out_df\n",
    "    except Exception as e:\n",
    "        print(f\"An error occurred while extracting the data. Error: {e}\")"
   ]
  },
  {
   "cell_type": "code",
   "execution_count": 6,
   "id": "9d4b02ca",
   "metadata": {},
   "outputs": [],
   "source": [
    "def load_data_to_postgresql(out_df, current_date):\n",
    "    if out_df is None:\n",
    "        print(f\"There is no data for this date: {current_date}\")\n",
    "    else:\n",
    "        out_df.to_excel(\"Crop Data \" + current_date + \".xlsx\", index=False)\n",
    "        # Step 1: Transform & Load the dimension tables\n",
    "        fact_df = out_df\n",
    "\n",
    "        # Extract unique values for two dimension columns\n",
    "        fact_market_list = fact_df['Market Name'].unique().tolist()\n",
    "        fact_commo_list = fact_df['Commodity Name'].unique().tolist()\n",
    "\n",
    "        # Insert DimMarket Table\n",
    "\n",
    "        new_market_values = [(market,) for market in fact_market_list]\n",
    "\n",
    "        try:\n",
    "            # Connect to the PostgreSQL database\n",
    "            conn = connect_to_pgsql()\n",
    "            print(\"Inserting Market Names....\")\n",
    "            cursor = conn.cursor()\n",
    "\n",
    "            # SQL query to insert a value\n",
    "            query = \"\"\"INSERT INTO \"DimMarket\" (market_name) VALUES (%s)\n",
    "                       ON CONFLICT (market_name) DO NOTHING;;\"\"\"\n",
    "\n",
    "            # Execute the query for multiple rows\n",
    "            cursor.executemany(query, new_market_values)\n",
    "\n",
    "            # Commit the transaction\n",
    "            conn.commit()\n",
    "\n",
    "            print(\"New markets inserted successfully.\")\n",
    "\n",
    "        except psycopg2.Error as e:\n",
    "            print(f\"An error occurred: {e}\")\n",
    "\n",
    "        finally:\n",
    "            # Close the cursor and connection\n",
    "            if cursor:\n",
    "                cursor.close()\n",
    "            if conn:\n",
    "                conn.close()\n",
    "\n",
    "        # Update Commo Master Table and DimCommodity Table\n",
    "\n",
    "        new_commo_values = [(commo,) for commo in fact_commo_list]\n",
    "\n",
    "        try:\n",
    "            # Connect to the PostgreSQL database\n",
    "            conn = connect_to_pgsql()\n",
    "            print(\"Inserting Commodity Names.....\")\n",
    "            cursor = conn.cursor()\n",
    "\n",
    "            # SQL query to insert a value\n",
    "            query = \"\"\"INSERT INTO \"DimCommodity\" (commodity_name) VALUES (%s)\n",
    "                       ON CONFLICT (commodity_name) DO NOTHING;\"\"\"\n",
    "\n",
    "            # Execute the query for multiple rows\n",
    "            cursor.executemany(query, new_commo_values)\n",
    "\n",
    "            # Commit the transaction\n",
    "            conn.commit()\n",
    "\n",
    "            print(\"New commodities inserted successfully.\")\n",
    "\n",
    "        except psycopg2.Error as e:\n",
    "            print(f\"An error occurred: {e}\")\n",
    "\n",
    "        finally:\n",
    "            # Close the cursor and connection\n",
    "            if cursor:\n",
    "                cursor.close()\n",
    "            if conn:\n",
    "                conn.close()\n",
    "\n",
    "        # Step 2: Transform & Load the fact table\n",
    "\n",
    "        # Read dim tables from pgsql\n",
    "        conn = connect_to_pgsql()\n",
    "        print(\"Reading Market and Commodity Data from PostgreSQL.\")\n",
    "\n",
    "        read_market_sql_query = '''SELECT market_id, market_name FROM \"DimMarket\"'''\n",
    "        read_commo_sql_query = '''SELECT commodity_id, commodity_name FROM \"DimCommodity\"'''\n",
    "\n",
    "        dim_market_df = pd.read_sql_query(read_market_sql_query, conn)\n",
    "        dim_commo_df = pd.read_sql_query(read_commo_sql_query, conn)\n",
    "\n",
    "        #print(dim_market_df.head())\n",
    "\n",
    "        # Change column names\n",
    "        fact_df.columns = ['price_date', 'market_name', 'commodity_name', 'unit_of_measure', \n",
    "                           'price_range', 'max_price', 'min_price']\n",
    "\n",
    "        # Change data types (max_price, min_price, price_date)\n",
    "        fact_df['max_price']=fact_df['max_price'].astype('float')\n",
    "        fact_df['min_price']=fact_df['min_price'].astype('float')\n",
    "        fact_df['price_date'] = pd.to_datetime(fact_df['price_date'])\n",
    "\n",
    "        # Merge the fact df and dim market df on the 'Market Name' column to replace name with id\n",
    "        merged_df = fact_df.merge(dim_market_df, on='market_name', how='left')\n",
    "        # Merge the fact df and dim market df on the 'Commodity Name' column to replace name with id\n",
    "        merged_df = merged_df.merge(dim_commo_df, on='commodity_name', how='left')\n",
    "\n",
    "        # Drop market name and commodity name\n",
    "        final_fact_df = merged_df[['price_date', 'market_id', 'commodity_id', 'unit_of_measure', \n",
    "                                   'price_range', 'max_price', 'min_price']]\n",
    "\n",
    "        #print(final_fact_df.head())\n",
    "\n",
    "\n",
    "        # Step 3 - Insert Fact Table\n",
    "\n",
    "        conn = connect_to_pgsql()\n",
    "        print(\"Inserting Fact - Pricing Data.....\")\n",
    "\n",
    "        cursor = conn.cursor()\n",
    "\n",
    "        try:\n",
    "            # Insert statement template\n",
    "            insert_query = \"\"\"\n",
    "                INSERT INTO \"FactPricing\" (price_date, market_id, commodity_id, unit_of_measure, price_range, max_price, min_price)\n",
    "                VALUES (%s, %s, %s, %s, %s, %s, %s);\n",
    "            \"\"\"\n",
    "\n",
    "            # Prepare data for batch insert using the DataFrame's values\n",
    "            data_to_insert = final_fact_df.values.tolist()\n",
    "\n",
    "            # Execute many for batch insert\n",
    "            cursor.executemany(insert_query, data_to_insert)\n",
    "\n",
    "            # Commit the transaction\n",
    "            conn.commit()\n",
    "            print(\"Pricing Data inserted successfully!\")\n",
    "\n",
    "        except Exception as e:\n",
    "            # Rollback in case of an error\n",
    "            if conn:\n",
    "                conn.rollback()\n",
    "            print(f\"An error occurred: {e}\")\n",
    "\n",
    "        finally:\n",
    "            # Close the cursor and connection\n",
    "            if cursor:\n",
    "                cursor.close()\n",
    "            if conn:\n",
    "                conn.close()\n",
    "            print(\"Database connection closed.\")"
   ]
  },
  {
   "cell_type": "code",
   "execution_count": 7,
   "id": "4c9ffaa3",
   "metadata": {},
   "outputs": [
    {
     "name": "stdout",
     "output_type": "stream",
     "text": [
      "PostgreSQL Connection successful!\n"
     ]
    },
    {
     "name": "stderr",
     "output_type": "stream",
     "text": [
      "  0%|                                                                                           | 0/28 [00:00<?, ?it/s]"
     ]
    },
    {
     "name": "stdout",
     "output_type": "stream",
     "text": [
      "Start working on 2025-02-01.......\n",
      "https://htwettoe.com/market?date=2025-02-01&\n"
     ]
    },
    {
     "name": "stderr",
     "output_type": "stream",
     "text": [
      "  4%|██▉                                                                                | 1/28 [00:00<00:18,  1.45it/s]"
     ]
    },
    {
     "name": "stdout",
     "output_type": "stream",
     "text": [
      "There is no data for this date: 2025-02-01\n",
      "\n",
      "Start working on 2025-02-02.......\n",
      "https://htwettoe.com/market?date=2025-02-02&\n"
     ]
    },
    {
     "name": "stderr",
     "output_type": "stream",
     "text": [
      "  7%|█████▉                                                                             | 2/28 [00:01<00:17,  1.47it/s]"
     ]
    },
    {
     "name": "stdout",
     "output_type": "stream",
     "text": [
      "There is no data for this date: 2025-02-02\n",
      "\n",
      "Start working on 2025-02-03.......\n",
      "https://htwettoe.com/market?date=2025-02-03&\n",
      "PostgreSQL Connection successful!\n",
      "Inserting Market Names....\n",
      "New markets inserted successfully.\n",
      "PostgreSQL Connection successful!\n",
      "Inserting Commodity Names.....\n",
      "New commodities inserted successfully.\n",
      "PostgreSQL Connection successful!\n",
      "Reading Market and Commodity Data from PostgreSQL.\n",
      "PostgreSQL Connection successful!\n",
      "Inserting Fact - Pricing Data.....\n",
      "Pricing Data inserted successfully!\n",
      "Database connection closed.\n"
     ]
    },
    {
     "name": "stderr",
     "output_type": "stream",
     "text": [
      " 11%|████████▉                                                                          | 3/28 [00:43<08:15, 19.82s/it]"
     ]
    },
    {
     "name": "stdout",
     "output_type": "stream",
     "text": [
      "Start working on 2025-02-04.......\n",
      "https://htwettoe.com/market?date=2025-02-04&\n",
      "PostgreSQL Connection successful!\n",
      "Inserting Market Names....\n",
      "New markets inserted successfully.\n",
      "PostgreSQL Connection successful!\n",
      "Inserting Commodity Names.....\n",
      "New commodities inserted successfully.\n",
      "PostgreSQL Connection successful!\n",
      "Reading Market and Commodity Data from PostgreSQL.\n",
      "PostgreSQL Connection successful!\n",
      "Inserting Fact - Pricing Data.....\n",
      "Pricing Data inserted successfully!\n",
      "Database connection closed.\n"
     ]
    },
    {
     "name": "stderr",
     "output_type": "stream",
     "text": [
      " 14%|███████████▊                                                                       | 4/28 [01:26<11:32, 28.84s/it]"
     ]
    },
    {
     "name": "stdout",
     "output_type": "stream",
     "text": [
      "Start working on 2025-02-05.......\n",
      "https://htwettoe.com/market?date=2025-02-05&\n",
      "PostgreSQL Connection successful!\n",
      "Inserting Market Names....\n",
      "New markets inserted successfully.\n",
      "PostgreSQL Connection successful!\n",
      "Inserting Commodity Names.....\n",
      "New commodities inserted successfully.\n",
      "PostgreSQL Connection successful!\n",
      "Reading Market and Commodity Data from PostgreSQL.\n",
      "PostgreSQL Connection successful!\n",
      "Inserting Fact - Pricing Data.....\n",
      "Pricing Data inserted successfully!\n",
      "Database connection closed.\n"
     ]
    },
    {
     "name": "stderr",
     "output_type": "stream",
     "text": [
      " 18%|██████████████▊                                                                    | 5/28 [02:08<12:49, 33.47s/it]"
     ]
    },
    {
     "name": "stdout",
     "output_type": "stream",
     "text": [
      "Start working on 2025-02-06.......\n",
      "https://htwettoe.com/market?date=2025-02-06&\n",
      "PostgreSQL Connection successful!\n",
      "Inserting Market Names....\n",
      "New markets inserted successfully.\n",
      "PostgreSQL Connection successful!\n",
      "Inserting Commodity Names.....\n",
      "New commodities inserted successfully.\n",
      "PostgreSQL Connection successful!\n",
      "Reading Market and Commodity Data from PostgreSQL.\n",
      "PostgreSQL Connection successful!\n",
      "Inserting Fact - Pricing Data.....\n",
      "Pricing Data inserted successfully!\n",
      "Database connection closed.\n"
     ]
    },
    {
     "name": "stderr",
     "output_type": "stream",
     "text": [
      " 21%|█████████████████▊                                                                 | 6/28 [02:50<13:21, 36.41s/it]"
     ]
    },
    {
     "name": "stdout",
     "output_type": "stream",
     "text": [
      "Start working on 2025-02-07.......\n",
      "https://htwettoe.com/market?date=2025-02-07&\n",
      "PostgreSQL Connection successful!\n",
      "Inserting Market Names....\n",
      "New markets inserted successfully.\n",
      "PostgreSQL Connection successful!\n",
      "Inserting Commodity Names.....\n",
      "New commodities inserted successfully.\n",
      "PostgreSQL Connection successful!\n",
      "Reading Market and Commodity Data from PostgreSQL.\n",
      "PostgreSQL Connection successful!\n",
      "Inserting Fact - Pricing Data.....\n",
      "Pricing Data inserted successfully!\n",
      "Database connection closed.\n"
     ]
    },
    {
     "name": "stderr",
     "output_type": "stream",
     "text": [
      " 25%|████████████████████▊                                                              | 7/28 [03:33<13:27, 38.47s/it]"
     ]
    },
    {
     "name": "stdout",
     "output_type": "stream",
     "text": [
      "Start working on 2025-02-08.......\n",
      "https://htwettoe.com/market?date=2025-02-08&\n"
     ]
    },
    {
     "name": "stderr",
     "output_type": "stream",
     "text": [
      " 29%|███████████████████████▋                                                           | 8/28 [03:35<09:01, 27.06s/it]"
     ]
    },
    {
     "name": "stdout",
     "output_type": "stream",
     "text": [
      "There is no data for this date: 2025-02-08\n",
      "\n",
      "Start working on 2025-02-09.......\n",
      "https://htwettoe.com/market?date=2025-02-09&\n"
     ]
    },
    {
     "name": "stderr",
     "output_type": "stream",
     "text": [
      " 32%|██████████████████████████▋                                                        | 9/28 [03:36<05:59, 18.94s/it]"
     ]
    },
    {
     "name": "stdout",
     "output_type": "stream",
     "text": [
      "There is no data for this date: 2025-02-09\n",
      "\n",
      "Start working on 2025-02-10.......\n",
      "https://htwettoe.com/market?date=2025-02-10&\n",
      "PostgreSQL Connection successful!\n",
      "Inserting Market Names....\n",
      "New markets inserted successfully.\n",
      "PostgreSQL Connection successful!\n",
      "Inserting Commodity Names.....\n",
      "New commodities inserted successfully.\n",
      "PostgreSQL Connection successful!\n",
      "Reading Market and Commodity Data from PostgreSQL.\n",
      "PostgreSQL Connection successful!\n",
      "Inserting Fact - Pricing Data.....\n",
      "Pricing Data inserted successfully!\n",
      "Database connection closed.\n"
     ]
    },
    {
     "name": "stderr",
     "output_type": "stream",
     "text": [
      " 36%|█████████████████████████████▎                                                    | 10/28 [04:19<07:51, 26.19s/it]"
     ]
    },
    {
     "name": "stdout",
     "output_type": "stream",
     "text": [
      "Start working on 2025-02-11.......\n",
      "https://htwettoe.com/market?date=2025-02-11&\n",
      "PostgreSQL Connection successful!\n",
      "Inserting Market Names....\n",
      "New markets inserted successfully.\n",
      "PostgreSQL Connection successful!\n",
      "Inserting Commodity Names.....\n",
      "New commodities inserted successfully.\n",
      "PostgreSQL Connection successful!\n",
      "Reading Market and Commodity Data from PostgreSQL.\n",
      "PostgreSQL Connection successful!\n",
      "Inserting Fact - Pricing Data.....\n",
      "Pricing Data inserted successfully!\n",
      "Database connection closed.\n"
     ]
    },
    {
     "name": "stderr",
     "output_type": "stream",
     "text": [
      " 39%|████████████████████████████████▏                                                 | 11/28 [05:01<08:48, 31.06s/it]"
     ]
    },
    {
     "name": "stdout",
     "output_type": "stream",
     "text": [
      "Start working on 2025-02-12.......\n",
      "https://htwettoe.com/market?date=2025-02-12&\n"
     ]
    },
    {
     "name": "stderr",
     "output_type": "stream",
     "text": [
      " 43%|███████████████████████████████████▏                                              | 12/28 [05:02<05:50, 21.92s/it]"
     ]
    },
    {
     "name": "stdout",
     "output_type": "stream",
     "text": [
      "There is no data for this date: 2025-02-12\n",
      "\n",
      "Start working on 2025-02-13.......\n",
      "https://htwettoe.com/market?date=2025-02-13&\n",
      "PostgreSQL Connection successful!\n",
      "Inserting Market Names....\n",
      "New markets inserted successfully.\n",
      "PostgreSQL Connection successful!\n",
      "Inserting Commodity Names.....\n",
      "New commodities inserted successfully.\n",
      "PostgreSQL Connection successful!\n",
      "Reading Market and Commodity Data from PostgreSQL.\n",
      "PostgreSQL Connection successful!\n",
      "Inserting Fact - Pricing Data.....\n",
      "Pricing Data inserted successfully!\n",
      "Database connection closed.\n"
     ]
    },
    {
     "name": "stderr",
     "output_type": "stream",
     "text": [
      " 46%|██████████████████████████████████████                                            | 13/28 [05:44<07:02, 28.17s/it]"
     ]
    },
    {
     "name": "stdout",
     "output_type": "stream",
     "text": [
      "Start working on 2025-02-14.......\n",
      "https://htwettoe.com/market?date=2025-02-14&\n",
      "PostgreSQL Connection successful!\n",
      "Inserting Market Names....\n",
      "New markets inserted successfully.\n",
      "PostgreSQL Connection successful!\n",
      "Inserting Commodity Names.....\n",
      "New commodities inserted successfully.\n",
      "PostgreSQL Connection successful!\n",
      "Reading Market and Commodity Data from PostgreSQL.\n",
      "PostgreSQL Connection successful!\n",
      "Inserting Fact - Pricing Data.....\n",
      "Pricing Data inserted successfully!\n",
      "Database connection closed.\n"
     ]
    },
    {
     "name": "stderr",
     "output_type": "stream",
     "text": [
      " 50%|█████████████████████████████████████████                                         | 14/28 [06:27<07:33, 32.43s/it]"
     ]
    },
    {
     "name": "stdout",
     "output_type": "stream",
     "text": [
      "Start working on 2025-02-15.......\n",
      "https://htwettoe.com/market?date=2025-02-15&\n"
     ]
    },
    {
     "name": "stderr",
     "output_type": "stream",
     "text": [
      " 54%|███████████████████████████████████████████▉                                      | 15/28 [06:28<04:58, 22.97s/it]"
     ]
    },
    {
     "name": "stdout",
     "output_type": "stream",
     "text": [
      "There is no data for this date: 2025-02-15\n",
      "\n",
      "Start working on 2025-02-16.......\n",
      "https://htwettoe.com/market?date=2025-02-16&\n"
     ]
    },
    {
     "name": "stderr",
     "output_type": "stream",
     "text": [
      " 57%|██████████████████████████████████████████████▊                                   | 16/28 [06:29<03:16, 16.35s/it]"
     ]
    },
    {
     "name": "stdout",
     "output_type": "stream",
     "text": [
      "There is no data for this date: 2025-02-16\n",
      "\n",
      "Start working on 2025-02-17.......\n",
      "https://htwettoe.com/market?date=2025-02-17&\n",
      "PostgreSQL Connection successful!\n",
      "Inserting Market Names....\n",
      "New markets inserted successfully.\n",
      "PostgreSQL Connection successful!\n",
      "Inserting Commodity Names.....\n",
      "New commodities inserted successfully.\n",
      "PostgreSQL Connection successful!\n",
      "Reading Market and Commodity Data from PostgreSQL.\n",
      "PostgreSQL Connection successful!\n",
      "Inserting Fact - Pricing Data.....\n",
      "Pricing Data inserted successfully!\n",
      "Database connection closed.\n"
     ]
    },
    {
     "name": "stderr",
     "output_type": "stream",
     "text": [
      " 61%|█████████████████████████████████████████████████▊                                | 17/28 [07:14<04:34, 24.92s/it]"
     ]
    },
    {
     "name": "stdout",
     "output_type": "stream",
     "text": [
      "Start working on 2025-02-18.......\n",
      "https://htwettoe.com/market?date=2025-02-18&\n",
      "PostgreSQL Connection successful!\n",
      "Inserting Market Names....\n",
      "New markets inserted successfully.\n",
      "PostgreSQL Connection successful!\n",
      "Inserting Commodity Names.....\n",
      "New commodities inserted successfully.\n",
      "PostgreSQL Connection successful!\n",
      "Reading Market and Commodity Data from PostgreSQL.\n",
      "PostgreSQL Connection successful!\n",
      "Inserting Fact - Pricing Data.....\n",
      "Pricing Data inserted successfully!\n",
      "Database connection closed.\n"
     ]
    },
    {
     "name": "stderr",
     "output_type": "stream",
     "text": [
      " 64%|████████████████████████████████████████████████████▋                             | 18/28 [07:57<05:05, 30.52s/it]"
     ]
    },
    {
     "name": "stdout",
     "output_type": "stream",
     "text": [
      "Start working on 2025-02-19.......\n",
      "https://htwettoe.com/market?date=2025-02-19&\n",
      "PostgreSQL Connection successful!\n",
      "Inserting Market Names....\n",
      "New markets inserted successfully.\n",
      "PostgreSQL Connection successful!\n",
      "Inserting Commodity Names.....\n",
      "New commodities inserted successfully.\n",
      "PostgreSQL Connection successful!\n",
      "Reading Market and Commodity Data from PostgreSQL.\n",
      "PostgreSQL Connection successful!\n",
      "Inserting Fact - Pricing Data.....\n",
      "Pricing Data inserted successfully!\n",
      "Database connection closed.\n"
     ]
    },
    {
     "name": "stderr",
     "output_type": "stream",
     "text": [
      " 68%|███████████████████████████████████████████████████████▋                          | 19/28 [08:42<05:13, 34.80s/it]"
     ]
    },
    {
     "name": "stdout",
     "output_type": "stream",
     "text": [
      "Start working on 2025-02-20.......\n",
      "https://htwettoe.com/market?date=2025-02-20&\n",
      "PostgreSQL Connection successful!\n",
      "Inserting Market Names....\n",
      "New markets inserted successfully.\n",
      "PostgreSQL Connection successful!\n",
      "Inserting Commodity Names.....\n",
      "New commodities inserted successfully.\n",
      "PostgreSQL Connection successful!\n",
      "Reading Market and Commodity Data from PostgreSQL.\n",
      "PostgreSQL Connection successful!\n",
      "Inserting Fact - Pricing Data.....\n",
      "Pricing Data inserted successfully!\n",
      "Database connection closed.\n"
     ]
    },
    {
     "name": "stderr",
     "output_type": "stream",
     "text": [
      " 71%|██████████████████████████████████████████████████████████▌                       | 20/28 [09:26<05:00, 37.55s/it]"
     ]
    },
    {
     "name": "stdout",
     "output_type": "stream",
     "text": [
      "Start working on 2025-02-21.......\n",
      "https://htwettoe.com/market?date=2025-02-21&\n",
      "PostgreSQL Connection successful!\n",
      "Inserting Market Names....\n",
      "New markets inserted successfully.\n",
      "PostgreSQL Connection successful!\n",
      "Inserting Commodity Names.....\n",
      "New commodities inserted successfully.\n",
      "PostgreSQL Connection successful!\n",
      "Reading Market and Commodity Data from PostgreSQL.\n",
      "PostgreSQL Connection successful!\n",
      "Inserting Fact - Pricing Data.....\n",
      "Pricing Data inserted successfully!\n",
      "Database connection closed.\n"
     ]
    },
    {
     "name": "stderr",
     "output_type": "stream",
     "text": [
      " 75%|█████████████████████████████████████████████████████████████▌                    | 21/28 [10:09<04:34, 39.17s/it]"
     ]
    },
    {
     "name": "stdout",
     "output_type": "stream",
     "text": [
      "Start working on 2025-02-22.......\n",
      "https://htwettoe.com/market?date=2025-02-22&\n"
     ]
    },
    {
     "name": "stderr",
     "output_type": "stream",
     "text": [
      " 79%|████████████████████████████████████████████████████████████████▍                 | 22/28 [10:10<02:46, 27.72s/it]"
     ]
    },
    {
     "name": "stdout",
     "output_type": "stream",
     "text": [
      "There is no data for this date: 2025-02-22\n",
      "\n",
      "Start working on 2025-02-23.......\n",
      "https://htwettoe.com/market?date=2025-02-23&\n"
     ]
    },
    {
     "name": "stderr",
     "output_type": "stream",
     "text": [
      " 82%|███████████████████████████████████████████████████████████████████▎              | 23/28 [10:11<01:38, 19.72s/it]"
     ]
    },
    {
     "name": "stdout",
     "output_type": "stream",
     "text": [
      "There is no data for this date: 2025-02-23\n",
      "\n",
      "Start working on 2025-02-24.......\n",
      "https://htwettoe.com/market?date=2025-02-24&\n"
     ]
    },
    {
     "name": "stderr",
     "output_type": "stream",
     "text": [
      " 86%|██████████████████████████████████████████████████████████████████████▎           | 24/28 [10:12<00:56, 14.12s/it]"
     ]
    },
    {
     "name": "stdout",
     "output_type": "stream",
     "text": [
      "There is no data for this date: 2025-02-24\n",
      "\n",
      "Start working on 2025-02-25.......\n",
      "https://htwettoe.com/market?date=2025-02-25&\n"
     ]
    },
    {
     "name": "stderr",
     "output_type": "stream",
     "text": [
      " 89%|█████████████████████████████████████████████████████████████████████████▏        | 25/28 [10:13<00:30, 10.18s/it]"
     ]
    },
    {
     "name": "stdout",
     "output_type": "stream",
     "text": [
      "There is no data for this date: 2025-02-25\n",
      "\n",
      "Start working on 2025-02-26.......\n",
      "https://htwettoe.com/market?date=2025-02-26&\n"
     ]
    },
    {
     "name": "stderr",
     "output_type": "stream",
     "text": [
      " 93%|████████████████████████████████████████████████████████████████████████████▏     | 26/28 [10:14<00:14,  7.43s/it]"
     ]
    },
    {
     "name": "stdout",
     "output_type": "stream",
     "text": [
      "There is no data for this date: 2025-02-26\n",
      "\n",
      "Start working on 2025-02-27.......\n",
      "https://htwettoe.com/market?date=2025-02-27&\n"
     ]
    },
    {
     "name": "stderr",
     "output_type": "stream",
     "text": [
      " 96%|███████████████████████████████████████████████████████████████████████████████   | 27/28 [10:15<00:05,  5.51s/it]"
     ]
    },
    {
     "name": "stdout",
     "output_type": "stream",
     "text": [
      "There is no data for this date: 2025-02-27\n",
      "\n",
      "Start working on 2025-02-28.......\n",
      "https://htwettoe.com/market?date=2025-02-28&\n"
     ]
    },
    {
     "name": "stderr",
     "output_type": "stream",
     "text": [
      "100%|██████████████████████████████████████████████████████████████████████████████████| 28/28 [10:16<00:00, 22.02s/it]"
     ]
    },
    {
     "name": "stdout",
     "output_type": "stream",
     "text": [
      "There is no data for this date: 2025-02-28\n",
      "\n"
     ]
    },
    {
     "name": "stderr",
     "output_type": "stream",
     "text": [
      "\n"
     ]
    }
   ],
   "source": [
    "# Default URL of the website\n",
    "url = \"https://htwettoe.com/market?date=\"\n",
    "\n",
    "# Create current month's dates list\n",
    "current_date = datetime.today()\n",
    "\n",
    "first_day = current_date.replace(day=1)\n",
    "last_day = current_date.replace(day=calendar.monthrange(current_date.year, current_date.month)[1])\n",
    "\n",
    "date_list = [first_day + timedelta(days=i) for i in range((last_day - first_day).days + 1)]\n",
    "\n",
    "date_list_str = [date.strftime('%Y-%m-%d') for date in date_list]\n",
    "\n",
    "# Create inserted date list\n",
    "try:\n",
    "    conn = connect_to_pgsql()\n",
    "    query = 'SELECT DISTINCT price_date FROM \"FactPricing\"'\n",
    "    pricing_date_df = pd.read_sql_query(query, conn)\n",
    "\n",
    "    price_dates_lst = pricing_date_df['price_date'].values.tolist()\n",
    "    price_dates_str_lst = [date.strftime('%Y-%m-%d') for date in price_dates_lst]\n",
    "except Exception as e:\n",
    "    print(f\"There was an error while extracting price dates from DB: {e}\")\n",
    "\n",
    "date_list_str_to_insert = list(set(date_list_str) - set(price_dates_str_lst))\n",
    "date_list_str_to_insert = sorted(date_list_str_to_insert)\n",
    "\n",
    "for current_date in tqdm(date_list_str_to_insert):\n",
    "    print(f\"Start working on {current_date}.......\")\n",
    "    current_date_utc = datetime.strptime(current_date, \"%Y-%m-%d\")\n",
    "    \n",
    "    try:\n",
    "        # Get the data\n",
    "        print(url + current_date + \"&\")\n",
    "        bsObj = connect_to_website(url + current_date + \"&\")\n",
    "        # Extract data\n",
    "        out_df = extract_data(bsObj, current_date)\n",
    "        if out_df.empty:\n",
    "            print(f\"There is no data for this date: {current_date}\\n\")\n",
    "            continue\n",
    "        else:\n",
    "            # Load data to PostgreSQL\n",
    "            load_data_to_postgresql(out_df, current_date)\n",
    "            # Wait for 1 second to prevent overloading the server\n",
    "            time.sleep(5)\n",
    "    except Exception as e:\n",
    "        print(f\"There was an error occurred: {e}\")\n",
    "        print(current_date)\n",
    "        raise\n",
    "        break"
   ]
  },
  {
   "cell_type": "code",
   "execution_count": null,
   "id": "981194de",
   "metadata": {},
   "outputs": [],
   "source": []
  }
 ],
 "metadata": {
  "kernelspec": {
   "display_name": "Python 3 (ipykernel)",
   "language": "python",
   "name": "python3"
  },
  "language_info": {
   "codemirror_mode": {
    "name": "ipython",
    "version": 3
   },
   "file_extension": ".py",
   "mimetype": "text/x-python",
   "name": "python",
   "nbconvert_exporter": "python",
   "pygments_lexer": "ipython3",
   "version": "3.11.5"
  }
 },
 "nbformat": 4,
 "nbformat_minor": 5
}
